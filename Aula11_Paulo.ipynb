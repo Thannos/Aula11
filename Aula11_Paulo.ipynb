{
  "nbformat": 4,
  "nbformat_minor": 0,
  "metadata": {
    "colab": {
      "name": "Aula11_Paulo.ipynb",
      "version": "0.3.2",
      "provenance": [],
      "include_colab_link": true
    },
    "kernelspec": {
      "name": "python3",
      "display_name": "Python 3"
    }
  },
  "cells": [
    {
      "cell_type": "markdown",
      "metadata": {
        "id": "view-in-github",
        "colab_type": "text"
      },
      "source": [
        "<a href=\"https://colab.research.google.com/github/Thannos/Aula11/blob/master/Aula11_Paulo.ipynb\" target=\"_parent\"><img src=\"https://colab.research.google.com/assets/colab-badge.svg\" alt=\"Open In Colab\"/></a>"
      ]
    },
    {
      "metadata": {
        "id": "xnJc734jskSl",
        "colab_type": "text"
      },
      "cell_type": "markdown",
      "source": [
        "https://pt.wikipedia.org/wiki/M%C3%A9todo_de_Jacobi"
      ]
    },
    {
      "metadata": {
        "id": "JnJr8Ts1s92L",
        "colab_type": "code",
        "colab": {}
      },
      "cell_type": "code",
      "source": [
        "import numpy as np\n",
        "import matplotlib.pyplot as plt\n",
        "import math\n",
        "import random\n",
        "from pprint import pprint\n",
        "from numpy import array, zeros, diag, diagflat, dot"
      ],
      "execution_count": 0,
      "outputs": []
    },
    {
      "metadata": {
        "id": "A2qGVkBZ8cmq",
        "colab_type": "text"
      },
      "cell_type": "markdown",
      "source": [
        "#Def Jacobi Method"
      ]
    },
    {
      "metadata": {
        "id": "LEtPk06LsuEo",
        "colab_type": "code",
        "colab": {}
      },
      "cell_type": "code",
      "source": [
        "def jacobi(a,b,x,n):#Ax=B  - n é a forma A3x3 e B3\n",
        "  if(np.linalg.det(a)!=0):\n",
        "    #decompor em x(1)=Cx(0)+G\n",
        "    g=np.matrix([[0],[0],[0]]) #novo vetor resposta\n",
        "    c=np.matrix([[0,0,0],[0,0,0],[0,0,0]]) #diagonal princial nula\n",
        "    for i in range(n):\n",
        "      g[i]=b[i]/a[i,i]#calculando matriz G\n",
        "      for j in range(n):\n",
        "        if(j!=i):\n",
        "          c[i,j]=a[i,j]#calculando matriz C\n",
        "    #calcular x(0)\n",
        "    #x=np.matrix([[0],[0],[0]])#Utilizando a pressuposição inicial de vetor nulo\n",
        "    aux=0\n",
        "    for i in range(n):\n",
        "      x[i]=1/a[i,i]\n",
        "      aux=b[i]\n",
        "      for j in range(n):\n",
        "        aux-=(a[i,j]*x[j])\n",
        "      x[i]*=aux\n",
        "    #calculando x(1), sendo, x(1)=Cx(0)+G\n",
        "    x=(c*x)+g\n",
        "    return x"
      ],
      "execution_count": 0,
      "outputs": []
    },
    {
      "metadata": {
        "id": "McsIgO5T04tq",
        "colab_type": "code",
        "outputId": "6006f653-1702-4be9-8178-eb6ca57db96a",
        "colab": {
          "base_uri": "https://localhost:8080/",
          "height": 68
        }
      },
      "cell_type": "code",
      "source": [
        "a=np.array([[10,2,1],[1,5,1],[2,3,10]])\n",
        "b=np.array([7,-8,6])\n",
        "x=np.matrix([[0],[0],[0]])\n",
        "x=jacobi(a,b,x,3)\n",
        "print(x)"
      ],
      "execution_count": 85,
      "outputs": [
        {
          "output_type": "stream",
          "text": [
            "[[ 0]\n",
            " [-1]\n",
            " [ 0]]\n"
          ],
          "name": "stdout"
        }
      ]
    },
    {
      "metadata": {
        "id": "FCueImjF9BCM",
        "colab_type": "text"
      },
      "cell_type": "markdown",
      "source": [
        "#Def do Critério das Linhas"
      ]
    },
    {
      "metadata": {
        "id": "_z3ZqWxE9Gns",
        "colab_type": "code",
        "colab": {}
      },
      "cell_type": "code",
      "source": [
        "def criterio(a,n): #passa a matriz A para calcular o critério das linhas\n",
        "  if(np.linalg.det(a)!=0):\n",
        "    #c funciona como alpha\n",
        "    c=[0,0,0]\n",
        "    x=float(0.0)\n",
        "    m=0\n",
        "    for i in range(n):\n",
        "      aux=float(0.0)\n",
        "      for j in range(n):\n",
        "        if(j!=i):\n",
        "          aux+=a[i,j]#somatória da linha exceto pelo valor da diagonal principal\n",
        "      if(aux/a[i,i]<1):#só salva valores menor que 1\n",
        "        c[i]=aux/a[i,i]#Resultado é o valor do critério das linhas\n",
        "      if(x<c[i]):\n",
        "        x=c[i]#salva o maior valor do vetor\n",
        "        m=i#salva o indice que é quantas vezes vai se repetir o método de jacobi\n",
        "    return x,i"
      ],
      "execution_count": 0,
      "outputs": []
    },
    {
      "metadata": {
        "id": "La6T0DrR-PMp",
        "colab_type": "text"
      },
      "cell_type": "markdown",
      "source": [
        "##Exemplo A"
      ]
    },
    {
      "metadata": {
        "id": "IfetKluU9-zB",
        "colab_type": "code",
        "outputId": "2b90b973-9efa-4f2b-9543-80b0778f429c",
        "colab": {
          "base_uri": "https://localhost:8080/",
          "height": 51
        }
      },
      "cell_type": "code",
      "source": [
        "#dado a matriz A calcular o critério das linhas para o mesmo\n",
        "a=np.array([[10,2,1],[1,5,1],[2,3,10]])\n",
        "x,m=criterio(a,3)\n",
        "print('x =',x,'\\tindice k de x(k) \\nk =',m)"
      ],
      "execution_count": 95,
      "outputs": [
        {
          "output_type": "stream",
          "text": [
            "x = 0.5 \tindice k de x(k) \n",
            "k = 2\n"
          ],
          "name": "stdout"
        }
      ]
    },
    {
      "metadata": {
        "id": "VZk60jV35XDG",
        "colab_type": "text"
      },
      "cell_type": "markdown",
      "source": [
        "##Exemplo B"
      ]
    },
    {
      "metadata": {
        "id": "VIMlEZ3F5cno",
        "colab_type": "code",
        "outputId": "79d3ec37-ebcf-4521-8553-9c373b4ac934",
        "colab": {
          "base_uri": "https://localhost:8080/",
          "height": 102
        }
      },
      "cell_type": "code",
      "source": [
        "#dado a matriz A e o vetor B usar o critério das linhas nos mesmos para calcular o método de jacobi\n",
        "a=np.array([[1,1],[1,-3]])\n",
        "b=np.array([3,-3])\n",
        "x,m=criterio(a,2)\n",
        "print('x =',x,'\\nresposta =')\n",
        "aux=np.matrix([[0],[0],[0]])\n",
        "for i in range(m):\n",
        "  aux=jacobi(a,b,aux,2)\n",
        "print(aux)"
      ],
      "execution_count": 96,
      "outputs": [
        {
          "output_type": "stream",
          "text": [
            "x = 0.0 \n",
            "resposta =\n",
            "[[3]\n",
            " [3]\n",
            " [0]]\n"
          ],
          "name": "stdout"
        }
      ]
    },
    {
      "metadata": {
        "id": "qOqDvJxk7xc0",
        "colab_type": "text"
      },
      "cell_type": "markdown",
      "source": [
        "##Exemplo C"
      ]
    },
    {
      "metadata": {
        "id": "30JCjmAb87OF",
        "colab_type": "code",
        "colab": {}
      },
      "cell_type": "code",
      "source": [
        "def troca(a,b,n):\n",
        "  if(a[0,0]<a[1,0]):#verifica se a necessidade de troca entre as linhas\n",
        "    #realiza a troca\n",
        "    for i in range(2):\n",
        "      #entre o vetor B\n",
        "      aux=b[i]\n",
        "      b[i]=b[i+1]\n",
        "      b[i+1]=aux\n",
        "      for j in range(n):\n",
        "        #entre a matriz A\n",
        "        aux=a[i,j]\n",
        "        a[i,j]=a[i+1,j]\n",
        "        a[i+1,j]=aux\n",
        "    return a,b#retorna a matriz e o vetor trocados"
      ],
      "execution_count": 0,
      "outputs": []
    },
    {
      "metadata": {
        "id": "DUxrOwRF743j",
        "colab_type": "code",
        "outputId": "41cb1a82-758c-4794-b00e-9536e3bf5053",
        "colab": {
          "base_uri": "https://localhost:8080/",
          "height": 102
        }
      },
      "cell_type": "code",
      "source": [
        "#dado a matriz A e o vetor B usar o critério das linhas nos mesmos para calcular o método de jacobi\n",
        "a=np.array([[1,3,1],[5,2,2],[0,6,8]])\n",
        "b=np.array([-2,3,-6])\n",
        "a,b=troca(a,b,3)#necessário realizar troca entre as linhas antes\n",
        "x,m=criterio(a,3)\n",
        "print('x =',x,'\\nresposta =')\n",
        "aux=np.matrix([[0],[0],[0]])\n",
        "for i in range(m):\n",
        "  aux=jacobi(a,b,aux,3)\n",
        "print(aux)"
      ],
      "execution_count": 136,
      "outputs": [
        {
          "output_type": "stream",
          "text": [
            "x = 0.8 \n",
            "resposta =\n",
            "[[ -6]\n",
            " [-25]\n",
            " [ -2]]\n"
          ],
          "name": "stdout"
        }
      ]
    },
    {
      "metadata": {
        "id": "gFS34Wba_OVH",
        "colab_type": "text"
      },
      "cell_type": "markdown",
      "source": [
        "#Distancia entre x(1) E x(0)"
      ]
    },
    {
      "metadata": {
        "id": "swAT1_U6BI6D",
        "colab_type": "code",
        "colab": {}
      },
      "cell_type": "code",
      "source": [
        "def distancia(a,b,n):#x(1),x(0),tamanho\n",
        "  d=a-b#x(1)-x(0)\n",
        "  aux=[]\n",
        "  if(d<0):\n",
        "    d*=-1#módulo da subtração\n",
        "  for i in range (n):\n",
        "    aux[i]=d/max(a[i])#calculo da distancia em si\n",
        "  return aux"
      ],
      "execution_count": 0,
      "outputs": []
    },
    {
      "metadata": {
        "id": "PTAyFwu-CSZQ",
        "colab_type": "text"
      },
      "cell_type": "markdown",
      "source": [
        "#Interpretação do método de Jacobi"
      ]
    },
    {
      "metadata": {
        "id": "tdzxZa66cEyO",
        "colab_type": "code",
        "colab": {}
      },
      "cell_type": "code",
      "source": [
        "def mtjacobi(n):\n",
        "  x1=0#x1(0)\n",
        "  x2=0#x2(0)\n",
        "  k1=[]\n",
        "  k2=[]\n",
        "  for i  in range(n):\n",
        "    aux=x1\n",
        "    x1=3-x2#x1(i)\n",
        "    k1.append(x1)#para plotar o valor de x1 no gráfico\n",
        "    x2=1/3*(3+aux)#x2(i)\n",
        "    k2.append(x2)#para plotar o valor de x2 no gráfico\n",
        "    print('x1 =',x1,'\\tx2 =',x2)#valor de x1 e x2\n",
        "    plt.scatter(k1,k2)#separa os valores de k1 e k2 para plotar os pontos\n",
        "  plt.plot(k1)#plot do gráfico x1\n",
        "  plt.plot(k2)#plot do gráfico de x2\n",
        "  plt.show()"
      ],
      "execution_count": 0,
      "outputs": []
    },
    {
      "metadata": {
        "id": "7nCM3j8geV5v",
        "colab_type": "code",
        "colab": {
          "base_uri": "https://localhost:8080/",
          "height": 415
        },
        "outputId": "d61eb319-eb2c-4734-9106-2b9c5c623987"
      },
      "cell_type": "code",
      "source": [
        "#para exemplo de: a=np.array([[1,1],[1,-3]]) e b=np.array([3,-3])\n",
        "mtjacobi(4)\n",
        "#não conseguir plotar as retas direito, mas os pontos estão corretos como verificado no print"
      ],
      "execution_count": 134,
      "outputs": [
        {
          "output_type": "stream",
          "text": [
            "x1 = 3 \tx2 = 1.0\n",
            "x1 = 2.0 \tx2 = 2.0\n",
            "x1 = 1.0 \tx2 = 1.6666666666666665\n",
            "x1 = 1.3333333333333335 \tx2 = 1.3333333333333333\n"
          ],
          "name": "stdout"
        },
        {
          "output_type": "display_data",
          "data": {
            "image/png": "[encoded data removed]",
            "text/plain": [
              "<matplotlib.figure.Figure at 0x7fd4f1779cc0>"
            ]
          },
          "metadata": {
            "tags": []
          }
        }
      ]
    },
    {
      "metadata": {
        "id": "jBRrW9yFFR_5",
        "colab_type": "text"
      },
      "cell_type": "markdown",
      "source": [
        "#Interpretação para o método Guass-Seidel"
      ]
    },
    {
      "metadata": {
        "id": "OAnN5NuVjKDn",
        "colab_type": "code",
        "colab": {}
      },
      "cell_type": "code",
      "source": [
        "def gausseidel(n):\n",
        "  x1=0#x1(0)\n",
        "  x2=0#x2(0)\n",
        "  k1=[]\n",
        "  k2=[]\n",
        "  for i in range (n):\n",
        "    x1=3-x2#x1(i)\n",
        "    k1.append(x1)#para plotar o valor de x1 no gráfico\n",
        "    x2=1/3*(3+x1)#x2(i)\n",
        "    k2.append(x2)#para plotar o valor de x2 no gráfico\n",
        "    print('x1 =',x1,'\\tx2 =',x2)#valor de x1 e x2\n",
        "    plt.scatter(k1,k2)#separa os valores de k1 e k2 para plotar os pontos\n",
        "  plt.plot(k1)#plot do gráfico x1\n",
        "  plt.plot(k2)#plot do gráfico de x2\n",
        "  plt.show()"
      ],
      "execution_count": 0,
      "outputs": []
    },
    {
      "metadata": {
        "id": "e4D_WT8qEdq2",
        "colab_type": "code",
        "outputId": "7a87ad9b-c17c-4c6a-a0e2-96804af35974",
        "colab": {
          "base_uri": "https://localhost:8080/",
          "height": 415
        }
      },
      "cell_type": "code",
      "source": [
        "#para exemplo de: a=np.array([[1,1],[1,-3]]) e b=np.array([3,-3])\n",
        "gausseidel(4)\n",
        "#não conseguir plotar as retas direito, mas os pontos estão corretos como verificado no print"
      ],
      "execution_count": 200,
      "outputs": [
        {
          "output_type": "stream",
          "text": [
            "x1 = 3 \tx2 = 2.0\n",
            "x1 = 1.0 \tx2 = 1.3333333333333333\n",
            "x1 = 1.6666666666666667 \tx2 = 1.5555555555555556\n",
            "x1 = 1.4444444444444444 \tx2 = 1.4814814814814814\n"
          ],
          "name": "stdout"
        },
        {
          "output_type": "display_data",
          "data": {
            "image/png": "[encoded data removed]",
            "text/plain": [
              "<matplotlib.figure.Figure at 0x7fd4f16eed68>"
            ]
          },
          "metadata": {
            "tags": []
          }
        }
      ]
    }
  ]
}